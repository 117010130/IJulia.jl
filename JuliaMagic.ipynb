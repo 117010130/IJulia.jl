{
 "metadata": {
  "name": "JuliaMagic"
 },
 "nbformat": 3,
 "nbformat_minor": 0,
 "worksheets": [
  {
   "cells": [
    {
     "cell_type": "heading",
     "level": 1,
     "metadata": {},
     "source": [
      "Experimental Julia magics in IPython"
     ]
    },
    {
     "cell_type": "markdown",
     "metadata": {},
     "source": [
      "<img src=\"files/Dean-Potter.jpg\" width=\"100%\"></img>"
     ]
    },
    {
     "cell_type": "code",
     "collapsed": false,
     "input": [
      "%load_ext juliamagic\n",
      "%julia 1+2+3"
     ],
     "language": "python",
     "metadata": {},
     "outputs": [
      {
       "output_type": "stream",
       "stream": "stdout",
       "text": [
        "Finding Julia install directory...\n",
        "jpath:"
       ]
      },
      {
       "output_type": "stream",
       "stream": "stdout",
       "text": [
        " /home/fperez/tmp/src/julia/usr/lib/libjulia-release.so\n",
        "Initializing Julia...\n",
        "Initializing Julia PyCall module..."
       ]
      },
      {
       "output_type": "stream",
       "stream": "stdout",
       "text": [
        "\n"
       ]
      },
      {
       "output_type": "pyout",
       "prompt_number": 1,
       "text": [
        "6"
       ]
      }
     ],
     "prompt_number": 1
    },
    {
     "cell_type": "code",
     "collapsed": false,
     "input": [
      "%julia 1+2+3"
     ],
     "language": "python",
     "metadata": {},
     "outputs": [
      {
       "output_type": "pyout",
       "prompt_number": 2,
       "text": [
        "6"
       ]
      }
     ],
     "prompt_number": 2
    },
    {
     "cell_type": "code",
     "collapsed": false,
     "input": [
      "%julia 1+2+3.0"
     ],
     "language": "python",
     "metadata": {},
     "outputs": [
      {
       "output_type": "pyout",
       "prompt_number": 3,
       "text": [
        "6.0"
       ]
      }
     ],
     "prompt_number": 3
    },
    {
     "cell_type": "code",
     "collapsed": false,
     "input": [
      "%%julia\n",
      "\n",
      "sum([1 2;3 4]^2)"
     ],
     "language": "python",
     "metadata": {},
     "outputs": [
      {
       "output_type": "pyout",
       "prompt_number": 4,
       "text": [
        "54"
       ]
      }
     ],
     "prompt_number": 4
    },
    {
     "cell_type": "code",
     "collapsed": false,
     "input": [
      "%%julia\n",
      "\n",
      "sum([1 2;3 4.0]^2)"
     ],
     "language": "python",
     "metadata": {},
     "outputs": [
      {
       "output_type": "pyout",
       "prompt_number": 5,
       "text": [
        "54.0"
       ]
      }
     ],
     "prompt_number": 5
    },
    {
     "cell_type": "markdown",
     "metadata": {},
     "source": [
      "For some reason, multiline blocks aren't executing quite right, so for now I'm putting them line by line.  Need to investigate further.  But even function definitions work:"
     ]
    },
    {
     "cell_type": "code",
     "collapsed": false,
     "input": [
      "%julia  fib(n) = n < 2 ? n : fib(n-1) + fib(n-2)\n",
      "%julia fib(10)"
     ],
     "language": "python",
     "metadata": {},
     "outputs": [
      {
       "output_type": "pyout",
       "prompt_number": 6,
       "text": [
        "55"
       ]
      }
     ],
     "prompt_number": 6
    },
    {
     "cell_type": "markdown",
     "metadata": {},
     "source": [
      "And once defined, they can be used as the state of the Julia interpreter is persistent:"
     ]
    },
    {
     "cell_type": "code",
     "collapsed": false,
     "input": [
      "%%julia\n",
      "fib(20)"
     ],
     "language": "python",
     "metadata": {},
     "outputs": [
      {
       "output_type": "pyout",
       "prompt_number": 7,
       "text": [
        "6765"
       ]
      }
     ],
     "prompt_number": 7
    },
    {
     "cell_type": "code",
     "collapsed": false,
     "input": [
      "%%julia  \n",
      "fib2(n) = n < 2 ? n : fib2(n-1) + fib2(n-2)\n",
      "fib2(10)"
     ],
     "language": "python",
     "metadata": {},
     "outputs": [
      {
       "output_type": "pyout",
       "prompt_number": 7,
       "text": [
        "55"
       ]
      }
     ],
     "prompt_number": 7
    },
    {
     "cell_type": "code",
     "collapsed": false,
     "input": [
      "%%julia\n",
      "const x = rand(8)\n",
      "[ 0.25*x[i-1] + 0.5*x[i] + 0.25*x[i+1] for i=2:length(x)-1 ]"
     ],
     "language": "python",
     "metadata": {},
     "outputs": [
      {
       "output_type": "pyout",
       "prompt_number": 9,
       "text": [
        "array([ 0.72701106,  0.47396355,  0.45422125,  0.60063245,  0.41613217,\n",
        "        0.19323142])"
       ]
      }
     ],
     "prompt_number": 9
    },
    {
     "cell_type": "code",
     "collapsed": false,
     "input": [
      "%julia { i/2 for i = 1:3 }"
     ],
     "language": "python",
     "metadata": {},
     "outputs": [
      {
       "output_type": "pyout",
       "prompt_number": 10,
       "text": [
        "[0.5, 1.0, 1.5]"
       ]
      }
     ],
     "prompt_number": 10
    },
    {
     "cell_type": "code",
     "collapsed": false,
     "input": [
      "%%julia\n",
      "y = reshape(1:9, 3, 3)\n",
      "y[1:2, 2:3] = -1\n",
      "y"
     ],
     "language": "python",
     "metadata": {},
     "outputs": [
      {
       "output_type": "pyout",
       "prompt_number": 13,
       "text": [
        "array([[ 1, -1, -1],\n",
        "       [ 2, -1, -1],\n",
        "       [ 3,  6,  9]])"
       ]
      }
     ],
     "prompt_number": 13
    },
    {
     "cell_type": "code",
     "collapsed": false,
     "input": [
      "%%julia\n",
      "a = rand(2,1); A = rand(2,3);\n",
      "repmat(a,1,3)+A"
     ],
     "language": "python",
     "metadata": {},
     "outputs": [
      {
       "output_type": "pyout",
       "prompt_number": 14,
       "text": [
        "array([[ 0.99892111,  1.07778785,  0.52516915],\n",
        "       [ 1.29883752,  1.19686627,  0.77041362]])"
       ]
      }
     ],
     "prompt_number": 14
    },
    {
     "cell_type": "code",
     "collapsed": false,
     "input": [
      "%%julia\n",
      "a = rand(10,10)\n",
      "b = sub(a, 2:2:8,2:2:4)\n",
      "(q,r) = qr(b);\n",
      "q"
     ],
     "language": "python",
     "metadata": {},
     "outputs": [
      {
       "output_type": "pyout",
       "prompt_number": 16,
       "text": [
        "array([[-0.83513479,  0.40633143],\n",
        "       [-0.526553  , -0.40360007],\n",
        "       [-0.14517943, -0.65049217],\n",
        "       [-0.06492118, -0.49886039]])"
       ]
      }
     ],
     "prompt_number": 16
    },
    {
     "cell_type": "code",
     "collapsed": false,
     "input": [
      "%julia r"
     ],
     "language": "python",
     "metadata": {},
     "outputs": [
      {
       "output_type": "pyout",
       "prompt_number": 18,
       "text": [
        "array([[-1.10064679, -0.67071106],\n",
        "       [ 0.        , -1.2704941 ]])"
       ]
      }
     ],
     "prompt_number": 18
    },
    {
     "cell_type": "code",
     "collapsed": false,
     "input": [
      "%julia spzeros(3,5)"
     ],
     "language": "python",
     "metadata": {},
     "outputs": [
      {
       "output_type": "pyout",
       "prompt_number": 19,
       "text": [
        "<PyCall.jlwrap 3x5 sparse matrix with 0 nonzeros:\n",
        ">"
       ]
      }
     ],
     "prompt_number": 19
    },
    {
     "cell_type": "code",
     "collapsed": false,
     "input": [
      "%julia println(\"Hello, World!\")"
     ],
     "language": "python",
     "metadata": {},
     "outputs": [],
     "prompt_number": 21
    },
    {
     "cell_type": "code",
     "collapsed": false,
     "input": [
      "%%julia\n",
      "\n",
      "function is_divisble(n, i)\n",
      "    return n % i == 0\n",
      "end\n",
      " \n",
      "function is_prime(n::Int64)\n",
      "    if is_divisble(n, 2)\n",
      "        return false\n",
      "    end\n",
      " \n",
      "    # initialize a counter variable\n",
      "    i = 3\n",
      " \n",
      "    while i <= sqrt(n)\n",
      "        if is_divisble(n, i)\n",
      "            return false\n",
      "        end\n",
      " \n",
      "        i += 2\n",
      "    end\n",
      " \n",
      "    return true\n",
      "end"
     ],
     "language": "python",
     "metadata": {},
     "outputs": [
      {
       "output_type": "pyout",
       "prompt_number": 25,
       "text": [
        "<PyCall.jlwrap is_prime>"
       ]
      }
     ],
     "prompt_number": 25
    },
    {
     "cell_type": "code",
     "collapsed": false,
     "input": [
      "%julia isprime(3)"
     ],
     "language": "python",
     "metadata": {},
     "outputs": [
      {
       "output_type": "pyout",
       "prompt_number": 26,
       "text": [
        "True"
       ]
      }
     ],
     "prompt_number": 26
    },
    {
     "cell_type": "code",
     "collapsed": false,
     "input": [
      "%julia isprime(10)"
     ],
     "language": "python",
     "metadata": {},
     "outputs": [
      {
       "output_type": "pyout",
       "prompt_number": 27,
       "text": [
        "False"
       ]
      }
     ],
     "prompt_number": 27
    },
    {
     "cell_type": "code",
     "collapsed": false,
     "input": [
      "%%julia\n",
      "using PyCall\n",
      "@pyimport pylab\n",
      "x = linspace(0,2*pi,1000); y = sin(3*x + 4*cos(2*x));\n",
      "pylab.plot(x, y, @pykw color=\"red\" linewidth=2.0 linestyle=\"--\")\n",
      "pylab.show() "
     ],
     "language": "python",
     "metadata": {},
     "outputs": [],
     "prompt_number": 28
    },
    {
     "cell_type": "code",
     "collapsed": false,
     "input": [],
     "language": "python",
     "metadata": {},
     "outputs": []
    }
   ],
   "metadata": {}
  }
 ]
}