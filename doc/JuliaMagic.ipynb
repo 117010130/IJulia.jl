{
 "metadata": {
  "name": "JuliaMagic"
 },
 "nbformat": 3,
 "nbformat_minor": 0,
 "worksheets": [
  {
   "cells": [
    {
     "cell_type": "heading",
     "level": 1,
     "metadata": {},
     "source": [
      "Julia and IPython integration via the Julia magics"
     ]
    },
    {
     "cell_type": "markdown",
     "metadata": {},
     "source": [
      "We load the inline plotting support in the notebook, as always:"
     ]
    },
    {
     "cell_type": "code",
     "collapsed": false,
     "input": [
      "%pylab inline"
     ],
     "language": "python",
     "metadata": {},
     "outputs": [
      {
       "output_type": "stream",
       "stream": "stdout",
       "text": [
        "\n",
        "Welcome to pylab, a matplotlib-based Python environment [backend: module://IPython.kernel.zmq.pylab.backend_inline].\n",
        "For more information, type 'help(pylab)'.\n"
       ]
      }
     ],
     "prompt_number": 1
    },
    {
     "cell_type": "markdown",
     "metadata": {},
     "source": [
      "And now we load the Julia integration into Python's process and load numpy and matplotlib into Julia, with the same naming conventions we use in the Python world:"
     ]
    },
    {
     "cell_type": "code",
     "collapsed": false,
     "input": [
      "%load_ext julia.magic\n",
      "%julia @pyimport matplotlib.pyplot as plt\n",
      "%julia @pyimport numpy as np"
     ],
     "language": "python",
     "metadata": {},
     "outputs": [],
     "prompt_number": 2
    },
    {
     "cell_type": "markdown",
     "metadata": {},
     "source": [
      "Now we can plot directly from Julia just like we would in Python:"
     ]
    },
    {
     "cell_type": "code",
     "collapsed": false,
     "input": [
      "%%julia\n",
      "# Note how we mix numpy and julia:\n",
      "x = linspace(0,2*pi,1000); # use the julia linspace\n",
      "y = sin(3*x + 4*np.cos(2*x)); # use the numpy cosine and julia sine\n",
      "plt.plot(x, y, @pykw color=\"red\" linewidth=2.0 linestyle=\"--\")"
     ],
     "language": "python",
     "metadata": {},
     "outputs": [
      {
       "output_type": "pyout",
       "prompt_number": 3,
       "text": [
        "[<matplotlib.lines.Line2D at 0x5d06b10>]"
       ]
      },
      {
       "output_type": "display_data",
       "png": "[encoded data removed]",
       "text": [
        "<matplotlib.figure.Figure at 0x40dc350>"
       ]
      }
     ],
     "prompt_number": 3
    },
    {
     "cell_type": "markdown",
     "metadata": {},
     "source": [
      "Julia array operations work and return native Numpy arrays:"
     ]
    },
    {
     "cell_type": "code",
     "collapsed": false,
     "input": [
      "%julia a = eye(3,3)"
     ],
     "language": "python",
     "metadata": {},
     "outputs": [
      {
       "output_type": "pyout",
       "prompt_number": 4,
       "text": [
        "array([[ 1.,  0.,  0.],\n",
        "       [ 0.,  1.,  0.],\n",
        "       [ 0.,  0.,  1.]])"
       ]
      }
     ],
     "prompt_number": 4
    },
    {
     "cell_type": "markdown",
     "metadata": {},
     "source": [
      "And they still share the memory with the original Julia object:"
     ]
    },
    {
     "cell_type": "code",
     "collapsed": false,
     "input": [
      "a = %julia a\n",
      "# a is now a Python array\n",
      "a[0] = 999\n",
      "a[1] = 500\n",
      "a"
     ],
     "language": "python",
     "metadata": {},
     "outputs": [
      {
       "output_type": "pyout",
       "prompt_number": 5,
       "text": [
        "array([[ 999.,  999.,  999.],\n",
        "       [ 500.,  500.,  500.],\n",
        "       [   0.,    0.,    1.]])"
       ]
      }
     ],
     "prompt_number": 5
    },
    {
     "cell_type": "code",
     "collapsed": false,
     "input": [
      "%julia a"
     ],
     "language": "python",
     "metadata": {},
     "outputs": [
      {
       "output_type": "pyout",
       "prompt_number": 6,
       "text": [
        "array([[ 999.,  999.,  999.],\n",
        "       [ 500.,  500.,  500.],\n",
        "       [   0.,    0.,    1.]])"
       ]
      }
     ],
     "prompt_number": 6
    },
    {
     "cell_type": "code",
     "collapsed": false,
     "input": [
      "%julia plt.imshow(a)"
     ],
     "language": "python",
     "metadata": {},
     "outputs": [
      {
       "output_type": "pyout",
       "prompt_number": 7,
       "text": [
        "<matplotlib.image.AxesImage at 0x7fd67d0>"
       ]
      },
      {
       "output_type": "display_data",
       "png": "[encoded data removed]",
       "text": [
        "<matplotlib.figure.Figure at 0x5d0dc10>"
       ]
      }
     ],
     "prompt_number": 7
    },
    {
     "cell_type": "markdown",
     "metadata": {},
     "source": [
      "Arbitrary Julia functions can be defined:"
     ]
    },
    {
     "cell_type": "code",
     "collapsed": false,
     "input": [
      "%%julia\n",
      "\n",
      "function is_divisble(n, i)\n",
      "    return n % i == 0\n",
      "end\n",
      " \n",
      "function is_prime(n::Int64)\n",
      "    if is_divisble(n, 2)\n",
      "        return false\n",
      "    end\n",
      " \n",
      "    # initialize a counter variable\n",
      "    i = 3\n",
      " \n",
      "    while i <= sqrt(n)\n",
      "        if is_divisble(n, i)\n",
      "            return false\n",
      "        end\n",
      " \n",
      "        i += 2\n",
      "    end\n",
      " \n",
      "    return true\n",
      "end"
     ],
     "language": "python",
     "metadata": {},
     "outputs": [
      {
       "output_type": "pyout",
       "prompt_number": 8,
       "text": [
        "<PyCall.jlwrap is_prime>"
       ]
      }
     ],
     "prompt_number": 8
    },
    {
     "cell_type": "markdown",
     "metadata": {},
     "source": [
      "And note that if we grab the python wrapper to the Julia function, we can reuse it later:"
     ]
    },
    {
     "cell_type": "code",
     "collapsed": false,
     "input": [
      "pyprime = %julia is_prime"
     ],
     "language": "python",
     "metadata": {},
     "outputs": [],
     "prompt_number": 9
    },
    {
     "cell_type": "markdown",
     "metadata": {},
     "source": [
      "These use the Julia call directly:"
     ]
    },
    {
     "cell_type": "code",
     "collapsed": false,
     "input": [
      "%julia is_prime(97)"
     ],
     "language": "python",
     "metadata": {},
     "outputs": [
      {
       "output_type": "pyout",
       "prompt_number": 10,
       "text": [
        "True"
       ]
      }
     ],
     "prompt_number": 10
    },
    {
     "cell_type": "code",
     "collapsed": false,
     "input": [
      "%julia is_prime(1234567)"
     ],
     "language": "python",
     "metadata": {},
     "outputs": [
      {
       "output_type": "pyout",
       "prompt_number": 11,
       "text": [
        "False"
       ]
      }
     ],
     "prompt_number": 11
    },
    {
     "cell_type": "markdown",
     "metadata": {},
     "source": [
      "But now that we have a Python function, we can use that directly:"
     ]
    },
    {
     "cell_type": "code",
     "collapsed": false,
     "input": [
      "pyprime(97)"
     ],
     "language": "python",
     "metadata": {},
     "outputs": [
      {
       "output_type": "pyout",
       "prompt_number": 12,
       "text": [
        "True"
       ]
      }
     ],
     "prompt_number": 12
    },
    {
     "cell_type": "heading",
     "level": 2,
     "metadata": {},
     "source": [
      "Manipulating the matplotlib figures across languages"
     ]
    },
    {
     "cell_type": "markdown",
     "metadata": {},
     "source": [
      "This little example shows how we can create a matplotlib figure in Julia and then pass the figure object over to Python to modify it further."
     ]
    },
    {
     "cell_type": "code",
     "collapsed": false,
     "input": [
      "%%julia\n",
      "x = linspace(0, 2*pi, 500);\n",
      "y = sin(x + cos(2*x));\n",
      "f = plt.gcf()  # grab the figure object as a variable so we can reuse it later\n",
      "plt.plot(x, y);"
     ],
     "language": "python",
     "metadata": {},
     "outputs": [
      {
       "output_type": "pyout",
       "prompt_number": 13,
       "text": [
        "[<matplotlib.lines.Line2D at 0x8002ed0>]"
       ]
      },
      {
       "output_type": "display_data",
       "png": "[encoded data removed]",
       "text": [
        "<matplotlib.figure.Figure at 0x5cf0bd0>"
       ]
      }
     ],
     "prompt_number": 13
    },
    {
     "cell_type": "markdown",
     "metadata": {},
     "source": [
      "And once we have the figure, it's easy enough to modify it further in Python with the matplotlib API:"
     ]
    },
    {
     "cell_type": "code",
     "collapsed": false,
     "input": [
      "f = %julia f\n",
      "ax = f.axes[0]\n",
      "ax.set_title('A strange oscillation')\n",
      "ax.set_xlabel('x')\n",
      "ax.set_ylabel('f(x)')\n",
      "f"
     ],
     "language": "python",
     "metadata": {},
     "outputs": [
      {
       "output_type": "pyout",
       "png": "[encoded data removed]",
       "prompt_number": 14,
       "text": [
        "<matplotlib.figure.Figure at 0x5cf0bd0>"
       ]
      }
     ],
     "prompt_number": 14
    },
    {
     "cell_type": "heading",
     "level": 2,
     "metadata": {},
     "source": [
      "The call stack as a layer cake"
     ]
    },
    {
     "cell_type": "markdown",
     "metadata": {},
     "source": [
      "Let's define a recursive Fibonacci that crosses the stack at each frame..."
     ]
    },
    {
     "cell_type": "code",
     "collapsed": false,
     "input": [
      "fib = %julia fib(n, fib2) = n < 2 ? n : fib2(n-1, fib) + fib2(n-2, fib)\n",
      "    \n",
      "def fib2(n, fib):\n",
      "    if n < 2:\n",
      "         return n\n",
      "    return fib(n-1, fib2) + fib(n-2, fib2)\n",
      "\n",
      "fib2(20, fib)"
     ],
     "language": "python",
     "metadata": {},
     "outputs": [
      {
       "output_type": "pyout",
       "prompt_number": 15,
       "text": [
        "6765"
       ]
      }
     ],
     "prompt_number": 15
    },
    {
     "cell_type": "code",
     "collapsed": false,
     "input": [],
     "language": "python",
     "metadata": {},
     "outputs": []
    }
   ],
   "metadata": {}
  }
 ]
}